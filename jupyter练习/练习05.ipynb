{
 "cells": [
  {
   "cell_type": "code",
   "execution_count": 12,
   "metadata": {},
   "outputs": [
    {
     "ename": "FileNotFoundError",
     "evalue": "[Errno 2] No such file or directory: 'record.txt'",
     "output_type": "error",
     "traceback": [
      "\u001b[1;31m---------------------------------------------------------------------------\u001b[0m",
      "\u001b[1;31mFileNotFoundError\u001b[0m                         Traceback (most recent call last)",
      "\u001b[1;32m<ipython-input-12-c63b1509d572>\u001b[0m in \u001b[0;36m<module>\u001b[1;34m()\u001b[0m\n\u001b[0;32m     37\u001b[0m         \u001b[0mf\u001b[0m\u001b[1;33m.\u001b[0m\u001b[0mclose\u001b[0m\u001b[1;33m(\u001b[0m\u001b[1;33m)\u001b[0m\u001b[1;33m\u001b[0m\u001b[0m\n\u001b[0;32m     38\u001b[0m \u001b[1;33m\u001b[0m\u001b[0m\n\u001b[1;32m---> 39\u001b[1;33m \u001b[0msplit_file\u001b[0m\u001b[1;33m(\u001b[0m\u001b[1;34m\"record.txt\"\u001b[0m\u001b[1;33m)\u001b[0m\u001b[1;33m\u001b[0m\u001b[0m\n\u001b[0m",
      "\u001b[1;32m<ipython-input-12-c63b1509d572>\u001b[0m in \u001b[0;36msplit_file\u001b[1;34m(file_name)\u001b[0m\n\u001b[0;32m     13\u001b[0m \u001b[1;33m\u001b[0m\u001b[0m\n\u001b[0;32m     14\u001b[0m \u001b[1;32mdef\u001b[0m \u001b[0msplit_file\u001b[0m\u001b[1;33m(\u001b[0m\u001b[0mfile_name\u001b[0m\u001b[1;33m)\u001b[0m\u001b[1;33m:\u001b[0m\u001b[1;33m\u001b[0m\u001b[0m\n\u001b[1;32m---> 15\u001b[1;33m     \u001b[0mf\u001b[0m \u001b[1;33m=\u001b[0m \u001b[0mopen\u001b[0m\u001b[1;33m(\u001b[0m\u001b[1;34m\"record.txt\"\u001b[0m\u001b[1;33m)\u001b[0m\u001b[1;33m\u001b[0m\u001b[0m\n\u001b[0m\u001b[0;32m     16\u001b[0m \u001b[1;33m\u001b[0m\u001b[0m\n\u001b[0;32m     17\u001b[0m     \u001b[0mboy\u001b[0m \u001b[1;33m=\u001b[0m \u001b[1;33m[\u001b[0m\u001b[1;33m]\u001b[0m\u001b[1;33m\u001b[0m\u001b[0m\n",
      "\u001b[1;31mFileNotFoundError\u001b[0m: [Errno 2] No such file or directory: 'record.txt'"
     ]
    }
   ],
   "source": [
    "def save_file(boy,girl,count):\n",
    "    file_name_boy = \"boy_\" + str(count) +\".txt\"\n",
    "    file_name_girl = \"girl_\" + str(count) +\".txt\"\n",
    "    \n",
    "    boy_file = open(file_name_boy , \"w\")\n",
    "    girl_file = open(file_name_girl , \"w\")\n",
    "    \n",
    "    boy_file.writelines(boy)\n",
    "    girl_file.writelines(girl)\n",
    "    \n",
    "    boy_file.close()\n",
    "    girl_file.close()\n",
    "\n",
    "def split_file(file_name):\n",
    "    f = open(\"record.txt\")\n",
    "\n",
    "    boy = []\n",
    "    girl = []\n",
    "    count = 1\n",
    "\n",
    "    for each_line in f:\n",
    "        if each_line[:6] != \"======\" :\n",
    "            (role,line_spoken) = each_line.split(\":\",1)\n",
    "            if role == \"小甲鱼\":\n",
    "                boy.append(line_spoken)\n",
    "            if role == \"小客服\":\n",
    "                girl.append(line_spoken)\n",
    "        else :\n",
    "            save_file(boy,girl,count)\n",
    "        \n",
    "            boy = []\n",
    "            girl = []\n",
    "            count += 1\n",
    "            \n",
    "        save_file(boy,girl,count)\n",
    "        \n",
    "        f.close()\n",
    "\n",
    "split_file(\"record.txt\")"
   ]
  },
  {
   "cell_type": "code",
   "execution_count": null,
   "metadata": {},
   "outputs": [],
   "source": [
    "raise ZeroDivisionError(\"除数为零的异常\")"
   ]
  },
  {
   "cell_type": "code",
   "execution_count": null,
   "metadata": {},
   "outputs": [],
   "source": []
  }
 ],
 "metadata": {
  "kernelspec": {
   "display_name": "Python 3",
   "language": "python",
   "name": "python3"
  }
 },
 "nbformat": 4,
 "nbformat_minor": 2
}
