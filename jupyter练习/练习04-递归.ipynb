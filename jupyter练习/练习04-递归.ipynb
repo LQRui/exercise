{
 "cells": [
  {
   "cell_type": "code",
   "execution_count": 3,
   "metadata": {},
   "outputs": [
    {
     "data": {
      "text/plain": [
       "[0, 2, 4, 6, 8, 10, 12, 14, 16, 18]"
      ]
     },
     "execution_count": 3,
     "metadata": {},
     "output_type": "execute_result"
    }
   ],
   "source": [
    "list(map(lambda x: x * 2, range(10)))\n",
    "#map函数：把列表中的每一个数字按lambda函数运行打印出来"
   ]
  },
  {
   "cell_type": "code",
   "execution_count": 5,
   "metadata": {},
   "outputs": [
    {
     "data": {
      "text/plain": [
       "[1, 3, 5, 7, 9]"
      ]
     },
     "execution_count": 5,
     "metadata": {},
     "output_type": "execute_result"
    }
   ],
   "source": [
    "list(filter(lambda x: x % 2 , range(10)))\n",
    "#filter函数：把列表中符合条件的值打印出来，不符合的跳过"
   ]
  },
  {
   "cell_type": "code",
   "execution_count": null,
   "metadata": {},
   "outputs": [],
   "source": [
    "def factorial(n) :#递归的第一个例子\n",
    "    if n == 1 :\n",
    "        return 1\n",
    "    else :\n",
    "        return n * factorial (n-1)\n",
    "    \n",
    "number = int (input(\"请输入一个正整数：\"))\n",
    "result = factorial (number)\n",
    "print (\"%d的阶乘是：%d\" % (number,result))"
   ]
  },
  {
   "cell_type": "code",
   "execution_count": 4,
   "metadata": {},
   "outputs": [
    {
     "name": "stdout",
     "output_type": "stream",
     "text": [
      "总共有6765对兔子诞生：\n"
     ]
    }
   ],
   "source": [
    "#用迭代来实现斐波那契数列\n",
    "def fab(n):\n",
    "    n1 = 1 \n",
    "    n2 = 1\n",
    "    n3 = 1\n",
    "    if n < 1 :\n",
    "        print(\"输入有误！\")\n",
    "        return -1\n",
    "    while (n-2) > 0 :\n",
    "        n3 = n2 + n1\n",
    "        n1 = n2 \n",
    "        n2 = n3\n",
    "        n -= 1\n",
    "    return n3\n",
    "result = fab(20)\n",
    "if result != -1:\n",
    "    print(\"总共有%d对兔子诞生：\" % result)"
   ]
  },
  {
   "cell_type": "code",
   "execution_count": 5,
   "metadata": {},
   "outputs": [
    {
     "name": "stdout",
     "output_type": "stream",
     "text": [
      "总共有6765对兔子诞生：\n"
     ]
    }
   ],
   "source": [
    "#用递归来实现斐波那契数列\n",
    "def fab(n):\n",
    "    if n < 1 :\n",
    "        print (\"输入有误！\")\n",
    "        return 1 \n",
    "    if n == 1 or n == 2:\n",
    "        return 1\n",
    "    else:\n",
    "        return fab(n-1)+fab(n-2)\n",
    "result = fab (20)\n",
    "if result != -1:\n",
    "    print (\"总共有%d对兔子诞生：\" % result)"
   ]
  },
  {
   "cell_type": "code",
   "execution_count": 7,
   "metadata": {},
   "outputs": [
    {
     "name": "stdout",
     "output_type": "stream",
     "text": [
      "请输入汉诺塔的层数：5\n",
      "1 --> 3\n",
      "1 --> 2\n",
      "3 --> 2\n",
      "1 --> 3\n",
      "2 --> 1\n",
      "2 --> 3\n",
      "1 --> 3\n",
      "1 --> 2\n",
      "3 --> 2\n",
      "3 --> 1\n",
      "2 --> 1\n",
      "3 --> 2\n",
      "1 --> 3\n",
      "1 --> 2\n",
      "3 --> 2\n",
      "1 --> 3\n",
      "2 --> 1\n",
      "2 --> 3\n",
      "1 --> 3\n",
      "2 --> 1\n",
      "3 --> 2\n",
      "3 --> 1\n",
      "2 --> 1\n",
      "2 --> 3\n",
      "1 --> 3\n",
      "1 --> 2\n",
      "3 --> 2\n",
      "1 --> 3\n",
      "2 --> 1\n",
      "2 --> 3\n",
      "1 --> 3\n"
     ]
    }
   ],
   "source": [
    "#用递归实现汉诺塔游戏\n",
    "def hanoi (n , x , y , z ):\n",
    "    if n ==1 :\n",
    "        print (x , \"-->\" , z )\n",
    "    else :\n",
    "        hanoi (n-1 , x , z , y)#将前n-1个盘子从x移动到y上\n",
    "        print (x, \"-->\",z)#将最底下的最后一个盘子从x移动到z上\n",
    "        hanoi (n-1, y , x, z )#将y上的n-1个盘子移动到z上\n",
    "n = int(input(\"请输入汉诺塔的层数：\"))\n",
    "hanoi (n,\"1\",\"2\",\"3\")"
   ]
  }
 ],
 "metadata": {
  "kernelspec": {
   "display_name": "Python 3",
   "language": "python",
   "name": "python3"
  },
  "language_info": {
   "codemirror_mode": {
    "name": "ipython",
    "version": 3
   },
   "file_extension": ".py",
   "mimetype": "text/x-python",
   "name": "python",
   "nbconvert_exporter": "python",
   "pygments_lexer": "ipython3",
   "version": "3.6.4"
  }
 },
 "nbformat": 4,
 "nbformat_minor": 2
}
