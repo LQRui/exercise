{
 "cells": [
  {
   "cell_type": "code",
   "execution_count": 19,
   "metadata": {},
   "outputs": [
    {
     "name": "stdout",
     "output_type": "stream",
     "text": [
      "wo->charge world\n"
     ]
    }
   ],
   "source": [
    "#关键字参数\n",
    "def SaySome(name , words):\n",
    "    print(name + \"->\" + words)\n",
    "SaySome(\"wo\",\"charge world\")"
   ]
  },
  {
   "cell_type": "code",
   "execution_count": 21,
   "metadata": {},
   "outputs": [
    {
     "name": "stdout",
     "output_type": "stream",
     "text": [
      "wo->charge world\n"
     ]
    }
   ],
   "source": [
    "def SaySome(name , words):\n",
    "    print(name + \"->\" + words)\n",
    "SaySome(name= \"wo\",words= \"charge world\")"
   ]
  },
  {
   "cell_type": "code",
   "execution_count": 25,
   "metadata": {},
   "outputs": [
    {
     "name": "stdout",
     "output_type": "stream",
     "text": [
      "你->是不是傻\n"
     ]
    }
   ],
   "source": [
    "#默认参数\n",
    "def SaySome(name= \"wo\",words= \"charge world\"):\n",
    "    print(name + \"->\" + words)\n",
    "SaySome(\"你\",\"是不是傻\")"
   ]
  },
  {
   "cell_type": "code",
   "execution_count": 1,
   "metadata": {},
   "outputs": [
    {
     "name": "stdout",
     "output_type": "stream",
     "text": [
      "参数的长度是： 6 8\n",
      "第1个参数是： cl\n"
     ]
    }
   ],
   "source": [
    "def test(*params , exp = 8 ): #第二个参数要为默认参数\n",
    "    print (\"参数的长度是：\" , len(params) , exp)\n",
    "    print (\"第1个参数是：\" , params[1])\n",
    "test(1,\"cl\",2 ,3.14, 5 ,7)"
   ]
  },
  {
   "cell_type": "code",
   "execution_count": 8,
   "metadata": {},
   "outputs": [
    {
     "name": "stdout",
     "output_type": "stream",
     "text": [
      "10\n",
      "5\n"
     ]
    }
   ],
   "source": [
    "count = 5\n",
    "def Myfun():\n",
    "    count = 10 #试图修改一个全局变量，但是Python自动采取了屏蔽机制生成了一个局部变量\n",
    "    print(10)\n",
    "\n",
    "Myfun()\n",
    "print(count)"
   ]
  },
  {
   "cell_type": "code",
   "execution_count": 10,
   "metadata": {},
   "outputs": [
    {
     "name": "stdout",
     "output_type": "stream",
     "text": [
      "10\n",
      "10\n"
     ]
    }
   ],
   "source": [
    "count = 5\n",
    "def Myfun():\n",
    "    global count #如果一定要修改代码中的全局变量一定要加global\n",
    "    count = 10 \n",
    "    print(10)\n",
    "\n",
    "Myfun()\n",
    "print(count)"
   ]
  },
  {
   "cell_type": "code",
   "execution_count": 15,
   "metadata": {},
   "outputs": [
    {
     "name": "stdout",
     "output_type": "stream",
     "text": [
      "正在调用fun1...\n",
      "正在调用fun2...\n"
     ]
    }
   ],
   "source": [
    "#内嵌函数\n",
    "def fun1():\n",
    "    print(\"正在调用fun1...\")\n",
    "    def fun2():\n",
    "        print(\"正在调用fun2...\")\n",
    "    fun2()\n",
    "\n",
    "fun1()"
   ]
  },
  {
   "cell_type": "code",
   "execution_count": 17,
   "metadata": {},
   "outputs": [
    {
     "ename": "NameError",
     "evalue": "name 'fun2' is not defined",
     "output_type": "error",
     "traceback": [
      "\u001b[1;31m---------------------------------------------------------------------------\u001b[0m",
      "\u001b[1;31mNameError\u001b[0m                                 Traceback (most recent call last)",
      "\u001b[1;32m<ipython-input-17-a7e4d4b4ceec>\u001b[0m in \u001b[0;36m<module>\u001b[1;34m()\u001b[0m\n\u001b[1;32m----> 1\u001b[1;33m \u001b[0mfun2\u001b[0m\u001b[1;33m(\u001b[0m\u001b[1;33m)\u001b[0m\u001b[1;33m\u001b[0m\u001b[0m\n\u001b[0m",
      "\u001b[1;31mNameError\u001b[0m: name 'fun2' is not defined"
     ]
    }
   ],
   "source": [
    "fun2()#Python找不到内嵌函数里面定义的函数"
   ]
  }
 ],
 "metadata": {
  "kernelspec": {
   "display_name": "Python 3",
   "language": "python",
   "name": "python3"
  },
  "language_info": {
   "codemirror_mode": {
    "name": "ipython",
    "version": 3
   },
   "file_extension": ".py",
   "mimetype": "text/x-python",
   "name": "python",
   "nbconvert_exporter": "python",
   "pygments_lexer": "ipython3",
   "version": "3.6.4"
  }
 },
 "nbformat": 4,
 "nbformat_minor": 2
}
